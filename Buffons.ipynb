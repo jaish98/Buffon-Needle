{
 "cells": [
  {
   "cell_type": "code",
   "execution_count": 1,
   "metadata": {},
   "outputs": [],
   "source": [
    "# Buffon's needle\n",
    "import numpy as np"
   ]
  },
  {
   "cell_type": "code",
   "execution_count": 8,
   "metadata": {},
   "outputs": [],
   "source": [
    "#Initialization\n",
    "\n",
    "N=100\n",
    "d=5.0 #line width\n",
    "l=4.3 #needle length"
   ]
  },
  {
   "cell_type": "code",
   "execution_count": 9,
   "metadata": {},
   "outputs": [],
   "source": [
    "#Iteration\n",
    "n_hits = 0\n",
    "for i in range(N):\n",
    "    theta = np.random.rand() * (np.pi/2)\n",
    "    x = np.random.rand() * d\n",
    "    if x <= (l * np.cos(theta)):\n",
    "        n_hits += 1\n",
    "pi = ((2*l)/d) * (N/n_hits)"
   ]
  },
  {
   "cell_type": "code",
   "execution_count": 10,
   "metadata": {},
   "outputs": [
    {
     "name": "stdout",
     "output_type": "stream",
     "text": [
      "Q =  56\n",
      "pi =  3.0714285714285716\n"
     ]
    }
   ],
   "source": [
    "print('Q = ',n_hits)\n",
    "print('pi = ',pi)"
   ]
  },
  {
   "cell_type": "code",
   "execution_count": null,
   "metadata": {},
   "outputs": [],
   "source": []
  }
 ],
 "metadata": {
  "kernelspec": {
   "display_name": "Python 3.8.0 64-bit",
   "language": "python",
   "name": "python38064bit4b5e80ee7595402d964af5ace9ac5e47"
  },
  "language_info": {
   "codemirror_mode": {
    "name": "ipython",
    "version": 3
   },
   "file_extension": ".py",
   "mimetype": "text/x-python",
   "name": "python",
   "nbconvert_exporter": "python",
   "pygments_lexer": "ipython3",
   "version": "3.8.0"
  }
 },
 "nbformat": 4,
 "nbformat_minor": 2
}
